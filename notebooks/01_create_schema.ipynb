{
 "cells": [
  {
   "cell_type": "code",
   "execution_count": 1,
   "metadata": {},
   "outputs": [],
   "source": [
    "import sys\n",
    "import os\n",
    "\n",
    "# Move up one level so Python can find config.py\n",
    "sys.path.append(os.path.abspath(\"..\"))\n",
    "\n",
    "\n",
    "import psycopg2\n",
    "from config import get_db_connection\n"
   ]
  },
  {
   "cell_type": "code",
   "execution_count": 2,
   "metadata": {},
   "outputs": [
    {
     "name": "stdout",
     "output_type": "stream",
     "text": [
      "✅ Database connection successful!\n"
     ]
    }
   ],
   "source": [
    "from config import get_db_connection\n",
    "\n",
    "# Test the connection\n",
    "conn = get_db_connection()\n",
    "if conn:\n",
    "    print(\"✅ Database connection successful!\")\n",
    "    conn.close()\n",
    "else:\n",
    "    print(\"❌ Database connection failed. Check your credentials in config.py.\")\n"
   ]
  },
  {
   "cell_type": "code",
   "execution_count": 3,
   "metadata": {},
   "outputs": [],
   "source": [
    "# Connect to the PostgreSQL database\n",
    "conn = get_db_connection()\n",
    "cursor = conn.cursor()"
   ]
  },
  {
   "cell_type": "markdown",
   "metadata": {},
   "source": [
    "Creating Hubs"
   ]
  },
  {
   "cell_type": "code",
   "execution_count": null,
   "metadata": {},
   "outputs": [
    {
     "name": "stdout",
     "output_type": "stream",
     "text": [
      "✅ Table 'hub_customer' created successfully!\n"
     ]
    }
   ],
   "source": [
    "\n",
    "try: \n",
    "    # Create hub_customer table\n",
    "    create_table_query = \"\"\"\n",
    "    CREATE TABLE IF NOT EXISTS hub_customer (\n",
    "    customer_id VARCHAR PRIMARY KEY,\n",
    "    load_date TIMESTAMP DEFAULT CURRENT_TIMESTAMP\n",
    "    );\n",
    "    \"\"\"\n",
    "    cursor.execute(create_table_query)\n",
    "    print(\"✅ Table 'hub_customer' created successfully!\")\n",
    "except psycopg2.Error as e:\n",
    "    print(e)"
   ]
  },
  {
   "cell_type": "code",
   "execution_count": null,
   "metadata": {},
   "outputs": [
    {
     "name": "stdout",
     "output_type": "stream",
     "text": [
      "✅ Table 'hub_product' created successfully!\n"
     ]
    }
   ],
   "source": [
    "\n",
    "try: \n",
    "    # Create hub_product table\n",
    "    create_table_query = \"\"\"\n",
    "    CREATE TABLE IF NOT EXISTS hub_product (\n",
    "    product_id VARCHAR PRIMARY KEY,\n",
    "    load_date TIMESTAMP DEFAULT CURRENT_TIMESTAMP\n",
    "    );\n",
    "    \"\"\"\n",
    "    cursor.execute(create_table_query)\n",
    "    print(\"✅ Table 'hub_product' created successfully!\")\n",
    "except psycopg2.Error as e:\n",
    "    print(e)"
   ]
  },
  {
   "cell_type": "code",
   "execution_count": null,
   "metadata": {},
   "outputs": [
    {
     "name": "stdout",
     "output_type": "stream",
     "text": [
      "✅ Table 'hub_order' created successfully!\n"
     ]
    }
   ],
   "source": [
    "\n",
    "try: \n",
    "    # Create hub_order table\n",
    "    create_table_query = \"\"\"\n",
    "    CREATE TABLE IF NOT EXISTS hub_order (\n",
    "    order_id VARCHAR PRIMARY KEY,\n",
    "    load_date TIMESTAMP DEFAULT CURRENT_TIMESTAMP\n",
    "    );\n",
    "    \"\"\"\n",
    "    cursor.execute(create_table_query)\n",
    "    print(\"✅ Table 'hub_order' created successfully!\")\n",
    "except psycopg2.Error as e:\n",
    "    print(e)"
   ]
  },
  {
   "cell_type": "markdown",
   "metadata": {},
   "source": [
    "Creating Link"
   ]
  },
  {
   "cell_type": "code",
   "execution_count": null,
   "metadata": {},
   "outputs": [
    {
     "name": "stdout",
     "output_type": "stream",
     "text": [
      "✅ Table 'link_order_customer_product' created successfully!\n"
     ]
    }
   ],
   "source": [
    "\n",
    "try: \n",
    "    # Create link_order_customer_product table\n",
    "    create_table_query = \"\"\"\n",
    "    CREATE TABLE IF NOT EXISTS link_order_customer_product (\n",
    "    link_id SERIAL PRIMARY KEY,\n",
    "    order_id VARCHAR,\n",
    "    customer_id VARCHAR,\n",
    "    product_id VARCHAR,\n",
    "    load_date TIMESTAMP DEFAULT CURRENT_TIMESTAMP,\n",
    "    FOREIGN KEY (order_id) REFERENCES hub_order(order_id),\n",
    "    FOREIGN KEY (customer_id) REFERENCES hub_customer(customer_id),\n",
    "    FOREIGN KEY (product_id) REFERENCES hub_product(product_id)\n",
    "    );\n",
    "    \"\"\"\n",
    "    cursor.execute(create_table_query)\n",
    "    print(\"✅ Table 'link_order_customer_product' created successfully!\")\n",
    "except psycopg2.Error as e:\n",
    "    print(e)"
   ]
  },
  {
   "cell_type": "markdown",
   "metadata": {},
   "source": [
    "Creating satellites"
   ]
  },
  {
   "cell_type": "code",
   "execution_count": null,
   "metadata": {},
   "outputs": [
    {
     "name": "stdout",
     "output_type": "stream",
     "text": [
      "✅ Table 'sat_customer' created successfully!\n"
     ]
    }
   ],
   "source": [
    "\n",
    "try: \n",
    "    # Create sat_customer table\n",
    "    create_table_query = \"\"\"\n",
    "    CREATE TABLE IF NOT EXISTS sat_customer (\n",
    "    customer_id VARCHAR,\n",
    "    customer_name VARCHAR,\n",
    "    segment VARCHAR,\n",
    "    country VARCHAR,\n",
    "    city VARCHAR,\n",
    "    state VARCHAR,\n",
    "    postal_code VARCHAR,\n",
    "    region VARCHAR,\n",
    "    load_date TIMESTAMP DEFAULT CURRENT_TIMESTAMP,\n",
    "    FOREIGN KEY (customer_id) REFERENCES hub_customer(customer_id)\n",
    "    );\n",
    "    \"\"\"\n",
    "    cursor.execute(create_table_query)\n",
    "    print(\"✅ Table 'sat_customer' created successfully!\")\n",
    "except psycopg2.Error as e:\n",
    "    print(e)"
   ]
  },
  {
   "cell_type": "code",
   "execution_count": null,
   "metadata": {},
   "outputs": [
    {
     "name": "stdout",
     "output_type": "stream",
     "text": [
      "✅ Table 'sat_product' created successfully!\n"
     ]
    }
   ],
   "source": [
    "\n",
    "try: \n",
    "    # Create sat_product table\n",
    "    create_table_query = \"\"\"\n",
    "    CREATE TABLE IF NOT EXISTS sat_product (\n",
    "    product_id VARCHAR,\n",
    "    category VARCHAR,\n",
    "    sub_category VARCHAR,\n",
    "    product_name VARCHAR,\n",
    "    load_date TIMESTAMP DEFAULT CURRENT_TIMESTAMP,\n",
    "    FOREIGN KEY (product_id) REFERENCES hub_product(product_id)\n",
    "    );\n",
    "    \"\"\"\n",
    "    cursor.execute(create_table_query)\n",
    "    print(\"✅ Table 'sat_product' created successfully!\")\n",
    "except psycopg2.Error as e:\n",
    "    print(e)"
   ]
  },
  {
   "cell_type": "code",
   "execution_count": null,
   "metadata": {},
   "outputs": [
    {
     "name": "stdout",
     "output_type": "stream",
     "text": [
      "✅ Table 'sat_order' created successfully!\n"
     ]
    }
   ],
   "source": [
    "\n",
    "try: \n",
    "    # Create sat_order table\n",
    "    create_table_query = \"\"\"\n",
    "    CREATE TABLE IF NOT EXISTS sat_order (\n",
    "    order_id VARCHAR,\n",
    "    order_date DATE,\n",
    "    ship_date DATE,\n",
    "    ship_mode VARCHAR,\n",
    "    load_date TIMESTAMP DEFAULT CURRENT_TIMESTAMP,\n",
    "    FOREIGN KEY (order_id) REFERENCES hub_order(order_id)\n",
    "    );\n",
    "    \"\"\"\n",
    "    cursor.execute(create_table_query)\n",
    "    print(\"✅ Table 'sat_order' created successfully!\")\n",
    "except psycopg2.Error as e:\n",
    "    print(e)"
   ]
  },
  {
   "cell_type": "code",
   "execution_count": null,
   "metadata": {},
   "outputs": [
    {
     "name": "stdout",
     "output_type": "stream",
     "text": [
      "✅ Table 'sat_orderitem' created successfully!\n"
     ]
    }
   ],
   "source": [
    "\n",
    "try: \n",
    "    # Create sat_orderitem table\n",
    "    create_table_query = \"\"\"\n",
    "    CREATE TABLE IF NOT EXISTS sat_orderitem (\n",
    "    link_id INT,\n",
    "    sales NUMERIC,\n",
    "    load_date TIMESTAMP DEFAULT CURRENT_TIMESTAMP,\n",
    "    FOREIGN KEY (link_id) REFERENCES link_order_customer_product(link_id)\n",
    "    );\n",
    "    \"\"\"\n",
    "    cursor.execute(create_table_query)\n",
    "    print(\"✅ Table 'sat_orderitem' created successfully!\")\n",
    "except psycopg2.Error as e:\n",
    "    print(e)"
   ]
  },
  {
   "cell_type": "code",
   "execution_count": 12,
   "metadata": {},
   "outputs": [
    {
     "name": "stdout",
     "output_type": "stream",
     "text": [
      "✅ Data Vault 2.0 schema created successfully in PostgreSQL!\n"
     ]
    }
   ],
   "source": [
    "# Commit and close\n",
    "conn.commit()\n",
    "cursor.close()\n",
    "conn.close()\n",
    "\n",
    "print(\"✅ Data Vault 2.0 schema created successfully in PostgreSQL!\")"
   ]
  }
 ],
 "metadata": {
  "kernelspec": {
   "display_name": "Python 3",
   "language": "python",
   "name": "python3"
  },
  "language_info": {
   "codemirror_mode": {
    "name": "ipython",
    "version": 3
   },
   "file_extension": ".py",
   "mimetype": "text/x-python",
   "name": "python",
   "nbconvert_exporter": "python",
   "pygments_lexer": "ipython3",
   "version": "3.11.9"
  }
 },
 "nbformat": 4,
 "nbformat_minor": 2
}
