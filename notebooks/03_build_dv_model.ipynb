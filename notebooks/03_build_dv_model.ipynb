{
 "cells": [
  {
   "cell_type": "code",
   "execution_count": 1,
   "metadata": {},
   "outputs": [],
   "source": [
    "import sys\n",
    "import os\n",
    "\n",
    "# Move up one level so Python can find config.py\n",
    "sys.path.append(os.path.abspath(\"..\"))\n",
    "\n",
    "\n",
    "import psycopg2\n",
    "from config import get_db_connection\n",
    "import pandas as pd\n"
   ]
  },
  {
   "cell_type": "code",
   "execution_count": 2,
   "metadata": {},
   "outputs": [
    {
     "name": "stdout",
     "output_type": "stream",
     "text": [
      "✅ Database connection successful!\n"
     ]
    }
   ],
   "source": [
    "from config import get_db_connection\n",
    "\n",
    "# Test the connection\n",
    "conn = get_db_connection()\n",
    "if conn:\n",
    "    print(\"✅ Database connection successful!\")\n",
    "    conn.close()\n",
    "else:\n",
    "    print(\"❌ Database connection failed. Check your credentials in config.py.\")\n"
   ]
  },
  {
   "cell_type": "code",
   "execution_count": 4,
   "metadata": {},
   "outputs": [
    {
     "name": "stderr",
     "output_type": "stream",
     "text": [
      "C:\\Users\\Pranesh\\AppData\\Local\\Temp\\ipykernel_24472\\3424497431.py:2: UserWarning: pandas only supports SQLAlchemy connectable (engine/connection) or database string URI or sqlite3 DBAPI2 connection. Other DBAPI2 objects are not tested. Please consider using SQLAlchemy.\n",
      "  df = pd.read_sql(\"SELECT * FROM stg_superstore\", conn)\n"
     ]
    },
    {
     "data": {
      "text/html": [
       "<div>\n",
       "<style scoped>\n",
       "    .dataframe tbody tr th:only-of-type {\n",
       "        vertical-align: middle;\n",
       "    }\n",
       "\n",
       "    .dataframe tbody tr th {\n",
       "        vertical-align: top;\n",
       "    }\n",
       "\n",
       "    .dataframe thead th {\n",
       "        text-align: right;\n",
       "    }\n",
       "</style>\n",
       "<table border=\"1\" class=\"dataframe\">\n",
       "  <thead>\n",
       "    <tr style=\"text-align: right;\">\n",
       "      <th></th>\n",
       "      <th>row_id</th>\n",
       "      <th>order_id</th>\n",
       "      <th>order_date</th>\n",
       "      <th>ship_date</th>\n",
       "      <th>ship_mode</th>\n",
       "      <th>customer_id</th>\n",
       "      <th>customer_name</th>\n",
       "      <th>segment</th>\n",
       "      <th>country</th>\n",
       "      <th>city</th>\n",
       "      <th>state</th>\n",
       "      <th>postal_code</th>\n",
       "      <th>region</th>\n",
       "      <th>product_id</th>\n",
       "      <th>category</th>\n",
       "      <th>sub_category</th>\n",
       "      <th>product_name</th>\n",
       "      <th>sales</th>\n",
       "    </tr>\n",
       "  </thead>\n",
       "  <tbody>\n",
       "    <tr>\n",
       "      <th>0</th>\n",
       "      <td>1</td>\n",
       "      <td>CA-2017-152156</td>\n",
       "      <td>2017-11-08</td>\n",
       "      <td>2017-11-11</td>\n",
       "      <td>Second Class</td>\n",
       "      <td>CG-12520</td>\n",
       "      <td>Claire Gute</td>\n",
       "      <td>Consumer</td>\n",
       "      <td>United States</td>\n",
       "      <td>Henderson</td>\n",
       "      <td>Kentucky</td>\n",
       "      <td>42420.0</td>\n",
       "      <td>South</td>\n",
       "      <td>FUR-BO-10001798</td>\n",
       "      <td>Furniture</td>\n",
       "      <td>Bookcases</td>\n",
       "      <td>Bush Somerset Collection Bookcase</td>\n",
       "      <td>261.9600</td>\n",
       "    </tr>\n",
       "    <tr>\n",
       "      <th>1</th>\n",
       "      <td>2</td>\n",
       "      <td>CA-2017-152156</td>\n",
       "      <td>2017-11-08</td>\n",
       "      <td>2017-11-11</td>\n",
       "      <td>Second Class</td>\n",
       "      <td>CG-12520</td>\n",
       "      <td>Claire Gute</td>\n",
       "      <td>Consumer</td>\n",
       "      <td>United States</td>\n",
       "      <td>Henderson</td>\n",
       "      <td>Kentucky</td>\n",
       "      <td>42420.0</td>\n",
       "      <td>South</td>\n",
       "      <td>FUR-CH-10000454</td>\n",
       "      <td>Furniture</td>\n",
       "      <td>Chairs</td>\n",
       "      <td>Hon Deluxe Fabric Upholstered Stacking Chairs,...</td>\n",
       "      <td>731.9400</td>\n",
       "    </tr>\n",
       "    <tr>\n",
       "      <th>2</th>\n",
       "      <td>3</td>\n",
       "      <td>CA-2017-138688</td>\n",
       "      <td>2017-06-12</td>\n",
       "      <td>2017-06-16</td>\n",
       "      <td>Second Class</td>\n",
       "      <td>DV-13045</td>\n",
       "      <td>Darrin Van Huff</td>\n",
       "      <td>Corporate</td>\n",
       "      <td>United States</td>\n",
       "      <td>Los Angeles</td>\n",
       "      <td>California</td>\n",
       "      <td>90036.0</td>\n",
       "      <td>West</td>\n",
       "      <td>OFF-LA-10000240</td>\n",
       "      <td>Office Supplies</td>\n",
       "      <td>Labels</td>\n",
       "      <td>Self-Adhesive Address Labels for Typewriters b...</td>\n",
       "      <td>14.6200</td>\n",
       "    </tr>\n",
       "    <tr>\n",
       "      <th>3</th>\n",
       "      <td>4</td>\n",
       "      <td>US-2016-108966</td>\n",
       "      <td>2016-10-11</td>\n",
       "      <td>2016-10-18</td>\n",
       "      <td>Standard Class</td>\n",
       "      <td>SO-20335</td>\n",
       "      <td>Sean O'Donnell</td>\n",
       "      <td>Consumer</td>\n",
       "      <td>United States</td>\n",
       "      <td>Fort Lauderdale</td>\n",
       "      <td>Florida</td>\n",
       "      <td>33311.0</td>\n",
       "      <td>South</td>\n",
       "      <td>FUR-TA-10000577</td>\n",
       "      <td>Furniture</td>\n",
       "      <td>Tables</td>\n",
       "      <td>Bretford CR4500 Series Slim Rectangular Table</td>\n",
       "      <td>957.5775</td>\n",
       "    </tr>\n",
       "    <tr>\n",
       "      <th>4</th>\n",
       "      <td>5</td>\n",
       "      <td>US-2016-108966</td>\n",
       "      <td>2016-10-11</td>\n",
       "      <td>2016-10-18</td>\n",
       "      <td>Standard Class</td>\n",
       "      <td>SO-20335</td>\n",
       "      <td>Sean O'Donnell</td>\n",
       "      <td>Consumer</td>\n",
       "      <td>United States</td>\n",
       "      <td>Fort Lauderdale</td>\n",
       "      <td>Florida</td>\n",
       "      <td>33311.0</td>\n",
       "      <td>South</td>\n",
       "      <td>OFF-ST-10000760</td>\n",
       "      <td>Office Supplies</td>\n",
       "      <td>Storage</td>\n",
       "      <td>Eldon Fold 'N Roll Cart System</td>\n",
       "      <td>22.3680</td>\n",
       "    </tr>\n",
       "  </tbody>\n",
       "</table>\n",
       "</div>"
      ],
      "text/plain": [
       "   row_id        order_id  order_date   ship_date       ship_mode customer_id  \\\n",
       "0       1  CA-2017-152156  2017-11-08  2017-11-11    Second Class    CG-12520   \n",
       "1       2  CA-2017-152156  2017-11-08  2017-11-11    Second Class    CG-12520   \n",
       "2       3  CA-2017-138688  2017-06-12  2017-06-16    Second Class    DV-13045   \n",
       "3       4  US-2016-108966  2016-10-11  2016-10-18  Standard Class    SO-20335   \n",
       "4       5  US-2016-108966  2016-10-11  2016-10-18  Standard Class    SO-20335   \n",
       "\n",
       "     customer_name    segment        country             city       state  \\\n",
       "0      Claire Gute   Consumer  United States        Henderson    Kentucky   \n",
       "1      Claire Gute   Consumer  United States        Henderson    Kentucky   \n",
       "2  Darrin Van Huff  Corporate  United States      Los Angeles  California   \n",
       "3   Sean O'Donnell   Consumer  United States  Fort Lauderdale     Florida   \n",
       "4   Sean O'Donnell   Consumer  United States  Fort Lauderdale     Florida   \n",
       "\n",
       "  postal_code region       product_id         category sub_category  \\\n",
       "0     42420.0  South  FUR-BO-10001798        Furniture    Bookcases   \n",
       "1     42420.0  South  FUR-CH-10000454        Furniture       Chairs   \n",
       "2     90036.0   West  OFF-LA-10000240  Office Supplies       Labels   \n",
       "3     33311.0  South  FUR-TA-10000577        Furniture       Tables   \n",
       "4     33311.0  South  OFF-ST-10000760  Office Supplies      Storage   \n",
       "\n",
       "                                        product_name     sales  \n",
       "0                  Bush Somerset Collection Bookcase  261.9600  \n",
       "1  Hon Deluxe Fabric Upholstered Stacking Chairs,...  731.9400  \n",
       "2  Self-Adhesive Address Labels for Typewriters b...   14.6200  \n",
       "3      Bretford CR4500 Series Slim Rectangular Table  957.5775  \n",
       "4                     Eldon Fold 'N Roll Cart System   22.3680  "
      ]
     },
     "execution_count": 4,
     "metadata": {},
     "output_type": "execute_result"
    }
   ],
   "source": [
    "conn = get_db_connection()\n",
    "df = pd.read_sql(\"SELECT * FROM stg_superstore\", conn)\n",
    "conn.close()\n",
    "\n",
    "df.head()\n"
   ]
  },
  {
   "cell_type": "markdown",
   "metadata": {},
   "source": [
    "Insert into Hubs"
   ]
  },
  {
   "cell_type": "code",
   "execution_count": 5,
   "metadata": {},
   "outputs": [],
   "source": [
    "# Hub: Customer\n",
    "customers = df[['customer_id']].drop_duplicates()\n",
    "# Hub: Product\n",
    "products = df[['product_id']].drop_duplicates()\n",
    "# Hub: Order\n",
    "orders = df[['order_id']].drop_duplicates()"
   ]
  },
  {
   "cell_type": "code",
   "execution_count": 6,
   "metadata": {},
   "outputs": [],
   "source": [
    "conn = get_db_connection()\n",
    "cursor = conn.cursor()"
   ]
  },
  {
   "cell_type": "code",
   "execution_count": 7,
   "metadata": {},
   "outputs": [],
   "source": [
    "\n",
    "try: \n",
    "    # Insert into hub_customer\n",
    "    for row in customers.itertuples(index=False):\n",
    "        cursor.execute(\"INSERT INTO hub_customer (customer_id) VALUES (%s) ON CONFLICT DO NOTHING\", (row.customer_id,))\n",
    "\n",
    "except psycopg2.Error as e:\n",
    "    print(e)"
   ]
  },
  {
   "cell_type": "code",
   "execution_count": 8,
   "metadata": {},
   "outputs": [
    {
     "name": "stdout",
     "output_type": "stream",
     "text": [
      "✅ Inserted data into the 'hub_product' table successfully!\n"
     ]
    }
   ],
   "source": [
    "\n",
    "try: \n",
    "    # Insert into hub_product\n",
    "    for row in products.itertuples(index=False):\n",
    "        cursor.execute(\"INSERT INTO hub_product (product_id) VALUES (%s) ON CONFLICT DO NOTHING\", (row.product_id,))\n",
    "    print(\"✅ Inserted data into the 'hub_product' table successfully!\")\n",
    "except psycopg2.Error as e:\n",
    "    print(e)"
   ]
  },
  {
   "cell_type": "code",
   "execution_count": 9,
   "metadata": {},
   "outputs": [
    {
     "name": "stdout",
     "output_type": "stream",
     "text": [
      "✅ Inserted data into the 'hub_order' table successfully!\n"
     ]
    }
   ],
   "source": [
    "\n",
    "try: \n",
    "    # Insert into hub_order\n",
    "    for row in orders.itertuples(index=False):\n",
    "        cursor.execute(\"INSERT INTO hub_order (order_id) VALUES (%s) ON CONFLICT DO NOTHING\", (row.order_id,))\n",
    "    print(\"✅ Inserted data into the 'hub_order' table successfully!\")\n",
    "except psycopg2.Error as e:\n",
    "    print(e)"
   ]
  },
  {
   "cell_type": "code",
   "execution_count": 10,
   "metadata": {},
   "outputs": [
    {
     "name": "stdout",
     "output_type": "stream",
     "text": [
      "✅ Hubs populated.\n"
     ]
    }
   ],
   "source": [
    "conn.commit()\n",
    "print(\"✅ Hubs populated.\")"
   ]
  },
  {
   "cell_type": "markdown",
   "metadata": {},
   "source": [
    "Build & Insert into Link Table"
   ]
  },
  {
   "cell_type": "code",
   "execution_count": 11,
   "metadata": {},
   "outputs": [],
   "source": [
    "link_df = df[['order_id', 'customer_id', 'product_id']].drop_duplicates()"
   ]
  },
  {
   "cell_type": "code",
   "execution_count": 12,
   "metadata": {},
   "outputs": [
    {
     "name": "stdout",
     "output_type": "stream",
     "text": [
      "✅ Inserted data into the 'link_order_customer_product' table successfully!\n"
     ]
    }
   ],
   "source": [
    "\n",
    "try: \n",
    "    # Insert into link_order_customer_product\n",
    "    for row in link_df.itertuples(index=False):\n",
    "        cursor.execute(\"\"\"\n",
    "            INSERT INTO link_order_customer_product (order_id, customer_id, product_id)\n",
    "            VALUES (%s, %s, %s)\n",
    "            ON CONFLICT DO NOTHING\n",
    "        \"\"\", (row.order_id, row.customer_id, row.product_id))\n",
    "    print(\"✅ Inserted data into the 'link_order_customer_product' table successfully!\")\n",
    "except psycopg2.Error as e:\n",
    "    print(e)"
   ]
  },
  {
   "cell_type": "code",
   "execution_count": 13,
   "metadata": {},
   "outputs": [
    {
     "name": "stdout",
     "output_type": "stream",
     "text": [
      "✅ Link table populated.\n"
     ]
    }
   ],
   "source": [
    "conn.commit()\n",
    "print(\"✅ Link table populated.\")"
   ]
  },
  {
   "cell_type": "markdown",
   "metadata": {},
   "source": [
    "Insert into Satellites"
   ]
  },
  {
   "cell_type": "code",
   "execution_count": 14,
   "metadata": {},
   "outputs": [],
   "source": [
    "sat_cust = df[['customer_id', 'customer_name', 'segment', 'country', 'city', 'state', 'postal_code', 'region']].drop_duplicates()\n"
   ]
  },
  {
   "cell_type": "code",
   "execution_count": 15,
   "metadata": {},
   "outputs": [
    {
     "name": "stdout",
     "output_type": "stream",
     "text": [
      "✅ Inserted data into the 'sat_customer' table successfully!\n"
     ]
    }
   ],
   "source": [
    "\n",
    "try: \n",
    "    # Insert into sat_customer\n",
    "    for row in sat_cust.itertuples(index=False):\n",
    "        cursor.execute(\"\"\"\n",
    "            INSERT INTO sat_customer (\n",
    "                customer_id, customer_name, segment, country, city, state, postal_code, region\n",
    "            ) VALUES (%s, %s, %s, %s, %s, %s, %s, %s)\n",
    "            ON CONFLICT DO NOTHING\n",
    "        \"\"\", tuple(row))\n",
    "    print(\"✅ Inserted data into the 'sat_customer' table successfully!\")\n",
    "except psycopg2.Error as e:\n",
    "    print(e)"
   ]
  },
  {
   "cell_type": "code",
   "execution_count": 16,
   "metadata": {},
   "outputs": [],
   "source": [
    "conn.commit()"
   ]
  },
  {
   "cell_type": "code",
   "execution_count": 17,
   "metadata": {},
   "outputs": [],
   "source": [
    "sat_prod = df[['product_id', 'category', 'sub_category', 'product_name']].drop_duplicates()"
   ]
  },
  {
   "cell_type": "code",
   "execution_count": 18,
   "metadata": {},
   "outputs": [
    {
     "name": "stdout",
     "output_type": "stream",
     "text": [
      "✅ Inserted data into the 'sat_product' table successfully!\n"
     ]
    }
   ],
   "source": [
    "\n",
    "try: \n",
    "    # Insert into sat_product\n",
    "    for row in sat_prod.itertuples(index=False):\n",
    "        cursor.execute(\"\"\"\n",
    "            INSERT INTO sat_product (\n",
    "                product_id, category, sub_category, product_name\n",
    "            ) VALUES (%s, %s, %s, %s)\n",
    "            ON CONFLICT DO NOTHING\n",
    "        \"\"\", tuple(row))\n",
    "    print(\"✅ Inserted data into the 'sat_product' table successfully!\")\n",
    "except psycopg2.Error as e:\n",
    "    print(e)"
   ]
  },
  {
   "cell_type": "code",
   "execution_count": 19,
   "metadata": {},
   "outputs": [],
   "source": [
    "conn.commit()"
   ]
  },
  {
   "cell_type": "code",
   "execution_count": 20,
   "metadata": {},
   "outputs": [],
   "source": [
    "sat_order = df[['order_id', 'order_date', 'ship_date', 'ship_mode']].drop_duplicates()"
   ]
  },
  {
   "cell_type": "code",
   "execution_count": 21,
   "metadata": {},
   "outputs": [
    {
     "name": "stdout",
     "output_type": "stream",
     "text": [
      "✅ Inserted data into the 'sat_order' table successfully!\n"
     ]
    }
   ],
   "source": [
    "\n",
    "try: \n",
    "    # Insert into sat_order\n",
    "    for row in sat_order.itertuples(index=False):\n",
    "        cursor.execute(\"\"\"\n",
    "            INSERT INTO sat_order (\n",
    "                order_id, order_date, ship_date, ship_mode\n",
    "            ) VALUES (%s, %s, %s, %s)\n",
    "            ON CONFLICT DO NOTHING\n",
    "        \"\"\", tuple(row))\n",
    "    print(\"✅ Inserted data into the 'sat_order' table successfully!\")\n",
    "except psycopg2.Error as e:\n",
    "    print(e)"
   ]
  },
  {
   "cell_type": "code",
   "execution_count": 22,
   "metadata": {},
   "outputs": [],
   "source": [
    "conn.commit()"
   ]
  },
  {
   "cell_type": "code",
   "execution_count": 23,
   "metadata": {},
   "outputs": [
    {
     "name": "stderr",
     "output_type": "stream",
     "text": [
      "C:\\Users\\Pranesh\\AppData\\Local\\Temp\\ipykernel_24472\\3528983373.py:2: UserWarning: pandas only supports SQLAlchemy connectable (engine/connection) or database string URI or sqlite3 DBAPI2 connection. Other DBAPI2 objects are not tested. Please consider using SQLAlchemy.\n",
      "  link_df = pd.read_sql(\"\"\"\n"
     ]
    }
   ],
   "source": [
    "# Pull link table to join\n",
    "link_df = pd.read_sql(\"\"\"\n",
    "    SELECT link_id, order_id, customer_id, product_id\n",
    "    FROM link_order_customer_product\n",
    "\"\"\", get_db_connection())"
   ]
  },
  {
   "cell_type": "code",
   "execution_count": 24,
   "metadata": {},
   "outputs": [],
   "source": [
    "# Join to get link_id per row\n",
    "merged = pd.merge(df, link_df, on=['order_id', 'customer_id', 'product_id'])"
   ]
  },
  {
   "cell_type": "code",
   "execution_count": null,
   "metadata": {},
   "outputs": [],
   "source": [
    "# Insert into satellite\n",
    "conn = get_db_connection()\n",
    "cursor = conn.cursor()"
   ]
  },
  {
   "cell_type": "code",
   "execution_count": 25,
   "metadata": {},
   "outputs": [
    {
     "name": "stdout",
     "output_type": "stream",
     "text": [
      "✅ Inserted data into the 'sat_orderitem' table successfully!\n"
     ]
    }
   ],
   "source": [
    "\n",
    "try: \n",
    "    # Insert into sat_orderitem\n",
    "    for row in merged[['link_id', 'sales']].itertuples(index=False):\n",
    "        cursor.execute(\"\"\"\n",
    "            INSERT INTO sat_orderitem (link_id, sales)\n",
    "            VALUES (%s, %s)\n",
    "        \"\"\", tuple(row))\n",
    "    print(\"✅ Inserted data into the 'sat_orderitem' table successfully!\")\n",
    "except psycopg2.Error as e:\n",
    "    print(e)"
   ]
  },
  {
   "cell_type": "code",
   "execution_count": 26,
   "metadata": {},
   "outputs": [
    {
     "name": "stdout",
     "output_type": "stream",
     "text": [
      "✅ All Satellites populated.\n"
     ]
    }
   ],
   "source": [
    "conn.commit()\n",
    "cursor.close()\n",
    "conn.close()\n",
    "print(\"✅ All Satellites populated.\")"
   ]
  }
 ],
 "metadata": {
  "kernelspec": {
   "display_name": "Python 3",
   "language": "python",
   "name": "python3"
  },
  "language_info": {
   "codemirror_mode": {
    "name": "ipython",
    "version": 3
   },
   "file_extension": ".py",
   "mimetype": "text/x-python",
   "name": "python",
   "nbconvert_exporter": "python",
   "pygments_lexer": "ipython3",
   "version": "3.11.9"
  }
 },
 "nbformat": 4,
 "nbformat_minor": 2
}
